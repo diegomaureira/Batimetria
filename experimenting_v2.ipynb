{
 "cells": [
  {
   "cell_type": "code",
   "execution_count": 1,
   "metadata": {},
   "outputs": [],
   "source": [
    "import numpy as np\n",
    "import glob\n",
    "import matplotlib.pyplot as plt\n",
    "import laspy as lp\n",
    "#pip install \"pyvista[jupyter]\""
   ]
  },
  {
   "cell_type": "code",
   "execution_count": 2,
   "metadata": {},
   "outputs": [
    {
     "data": {
      "text/plain": [
       "['/home/diego/Documents/2023-05-24_Kinematic_Vitacura/LAZ - crudo/230518_085049_001.laz',\n",
       " '/home/diego/Documents/2023-05-24_Kinematic_Vitacura/LAZ - crudo/230518_085049.laz',\n",
       " '/home/diego/Documents/2023-05-24_Kinematic_Vitacura/LAZ - crudo/230518_085049_002.laz']"
      ]
     },
     "execution_count": 2,
     "metadata": {},
     "output_type": "execute_result"
    }
   ],
   "source": [
    "main_path = '/home/diego/Documents/2023-05-24_Kinematic_Vitacura/LAZ - crudo/*'\n",
    "glob.glob(main_path)"
   ]
  },
  {
   "cell_type": "code",
   "execution_count": 3,
   "metadata": {},
   "outputs": [
    {
     "name": "stdout",
     "output_type": "stream",
     "text": [
      "<LasData(1.2, point fmt: <PointFormat(3, 6 bytes of extra dims)>, 102451934 points, 4 vlrs)>\n"
     ]
    }
   ],
   "source": [
    "point_cloud = lp.read(glob.glob(main_path)[0])\n",
    "print(point_cloud)"
   ]
  },
  {
   "cell_type": "code",
   "execution_count": 4,
   "metadata": {},
   "outputs": [
    {
     "name": "stdout",
     "output_type": "stream",
     "text": [
      "<generator object PointFormat.dimension_names.<locals>.<genexpr> at 0x78dd952b19c0>\n"
     ]
    }
   ],
   "source": [
    "point_format = point_cloud.point_format\n",
    "print(point_format.dimension_names)"
   ]
  },
  {
   "cell_type": "code",
   "execution_count": 5,
   "metadata": {},
   "outputs": [
    {
     "name": "stdout",
     "output_type": "stream",
     "text": [
      "(102451934, 3) (102451934, 3)\n"
     ]
    }
   ],
   "source": [
    "points = np.vstack((point_cloud.x, point_cloud.y, point_cloud.z)).transpose()\n",
    "colors = np.vstack((point_cloud.red, point_cloud.green, point_cloud.blue)).transpose()\n",
    "print(points.shape, colors.shape)"
   ]
  },
  {
   "cell_type": "code",
   "execution_count": 7,
   "metadata": {},
   "outputs": [
    {
     "name": "stdout",
     "output_type": "stream",
     "text": [
      "(100000, 3) (100000, 3)\n"
     ]
    }
   ],
   "source": [
    "# Limit the number of points to visualize (e.g., 100 points)\n",
    "max_points = 100000  # Set your desired limit here\n",
    "if len(points) > max_points:\n",
    "    idxs = np.random.choice(len(points), max_points, replace=False)\n",
    "    points = points[idxs]\n",
    "    colors = colors[idxs]\n",
    "\n",
    "# Another way\n",
    "#factor=10\n",
    "#decimated_points_random = points[::factor]\n",
    "\n",
    "print(points.shape, colors.shape)"
   ]
  },
  {
   "cell_type": "markdown",
   "metadata": {},
   "source": [
    "# Visualization"
   ]
  },
  {
   "cell_type": "markdown",
   "metadata": {},
   "source": [
    "## Option 1: PyVista"
   ]
  },
  {
   "cell_type": "code",
   "execution_count": 11,
   "metadata": {},
   "outputs": [],
   "source": [
    "#!pip install pyvista\n",
    "import pyvista as pv"
   ]
  },
  {
   "cell_type": "code",
   "execution_count": 13,
   "metadata": {},
   "outputs": [
    {
     "ename": "AttributeError",
     "evalue": "'PolyData' object has no attribute 'point_arrays'",
     "output_type": "error",
     "traceback": [
      "\u001b[0;31m---------------------------------------------------------------------------\u001b[0m",
      "\u001b[0;31mAttributeError\u001b[0m                            Traceback (most recent call last)",
      "Cell \u001b[0;32mIn[13], line 5\u001b[0m\n\u001b[1;32m      2\u001b[0m point_cloud_data \u001b[38;5;241m=\u001b[39m pv\u001b[38;5;241m.\u001b[39mPolyData(points)\n\u001b[1;32m      4\u001b[0m \u001b[38;5;66;03m# Add color data to the PolyData object\u001b[39;00m\n\u001b[0;32m----> 5\u001b[0m \u001b[43mpoint_cloud_data\u001b[49m\u001b[38;5;241;43m.\u001b[39;49m\u001b[43mpoint_arrays\u001b[49m[\u001b[38;5;124m'\u001b[39m\u001b[38;5;124mcolors\u001b[39m\u001b[38;5;124m'\u001b[39m] \u001b[38;5;241m=\u001b[39m colors \u001b[38;5;241m/\u001b[39m \u001b[38;5;241m255.0\u001b[39m  \u001b[38;5;66;03m# Normalize colors to [0, 1]\u001b[39;00m\n\u001b[1;32m      7\u001b[0m \u001b[38;5;66;03m# Visualize the point cloud\u001b[39;00m\n\u001b[1;32m      8\u001b[0m point_cloud_data\u001b[38;5;241m.\u001b[39mplot(render_points_as_spheres\u001b[38;5;241m=\u001b[39m\u001b[38;5;28;01mTrue\u001b[39;00m, eye_dome_lighting\u001b[38;5;241m=\u001b[39m\u001b[38;5;28;01mTrue\u001b[39;00m)\n",
      "File \u001b[0;32m~/workspace/batimetria/venv/lib/python3.12/site-packages/pyvista/core/dataset.py:158\u001b[0m, in \u001b[0;36mDataSet.__getattr__\u001b[0;34m(self, item)\u001b[0m\n\u001b[1;32m    156\u001b[0m \u001b[38;5;28;01mdef\u001b[39;00m \u001b[38;5;21m__getattr__\u001b[39m(\u001b[38;5;28mself\u001b[39m, item) \u001b[38;5;241m-\u001b[39m\u001b[38;5;241m>\u001b[39m Any:\n\u001b[1;32m    157\u001b[0m \u001b[38;5;250m    \u001b[39m\u001b[38;5;124;03m\"\"\"Get attribute from base class if not found.\"\"\"\u001b[39;00m\n\u001b[0;32m--> 158\u001b[0m     \u001b[38;5;28;01mreturn\u001b[39;00m \u001b[38;5;28;43msuper\u001b[39;49m\u001b[43m(\u001b[49m\u001b[43m)\u001b[49m\u001b[38;5;241;43m.\u001b[39;49m\u001b[38;5;21;43m__getattribute__\u001b[39;49m\u001b[43m(\u001b[49m\u001b[43mitem\u001b[49m\u001b[43m)\u001b[49m\n",
      "\u001b[0;31mAttributeError\u001b[0m: 'PolyData' object has no attribute 'point_arrays'"
     ]
    }
   ],
   "source": [
    "# Create a PolyData object from the points\n",
    "point_cloud_data = pv.PolyData(points)\n",
    "\n",
    "# Add color data to the PolyData object\n",
    "point_cloud_data.point_arrays['colors'] = colors / 255.0  # Normalize colors to [0, 1]\n",
    "\n",
    "# Visualize the point cloud\n",
    "point_cloud_data.plot(render_points_as_spheres=True, eye_dome_lighting=True)"
   ]
  },
  {
   "cell_type": "code",
   "execution_count": null,
   "metadata": {},
   "outputs": [],
   "source": []
  },
  {
   "cell_type": "code",
   "execution_count": null,
   "metadata": {},
   "outputs": [],
   "source": []
  }
 ],
 "metadata": {
  "kernelspec": {
   "display_name": "venv",
   "language": "python",
   "name": "python3"
  },
  "language_info": {
   "codemirror_mode": {
    "name": "ipython",
    "version": 3
   },
   "file_extension": ".py",
   "mimetype": "text/x-python",
   "name": "python",
   "nbconvert_exporter": "python",
   "pygments_lexer": "ipython3",
   "version": "3.12.3"
  }
 },
 "nbformat": 4,
 "nbformat_minor": 2
}
