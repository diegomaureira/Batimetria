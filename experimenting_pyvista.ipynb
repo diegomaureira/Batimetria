{
 "cells": [
  {
   "cell_type": "code",
   "execution_count": 10,
   "metadata": {},
   "outputs": [],
   "source": [
    "import pyvista as pv\n",
    "import glob\n",
    "import laspy as lp\n",
    "import numpy as np"
   ]
  },
  {
   "cell_type": "code",
   "execution_count": 11,
   "metadata": {},
   "outputs": [
    {
     "data": {
      "text/plain": [
       "['/home/diego/Documents/2023-05-24_Kinematic_Vitacura/LAZ - 1cm/230518_085049_001.laz',\n",
       " '/home/diego/Documents/2023-05-24_Kinematic_Vitacura/LAZ - 1cm/230518_085049.laz',\n",
       " '/home/diego/Documents/2023-05-24_Kinematic_Vitacura/LAZ - 1cm/230518_085049_002.laz']"
      ]
     },
     "execution_count": 11,
     "metadata": {},
     "output_type": "execute_result"
    }
   ],
   "source": [
    "main_path = '/home/diego/Documents/2023-05-24_Kinematic_Vitacura/LAZ - 1cm/*'\n",
    "glob.glob(main_path)"
   ]
  },
  {
   "cell_type": "code",
   "execution_count": 12,
   "metadata": {},
   "outputs": [],
   "source": [
    "def get_points_and_colors(las_file, limit=-1):\n",
    "    las = lp.read(las_file)\n",
    "    points = np.vstack((las.x, las.y, las.z)).transpose()\n",
    "    colors = np.vstack((las.red, las.green, las.blue)).transpose()\n",
    "    if limit > 0:\n",
    "        idxs = np.random.choice(len(points), limit, replace=False)\n",
    "        points = points[idxs]\n",
    "        colors = colors[idxs]\n",
    "    # Another way\n",
    "    #factor=10\n",
    "    #decimated_points_random = points[::factor]\n",
    "    return points, colors"
   ]
  },
  {
   "cell_type": "code",
   "execution_count": 13,
   "metadata": {},
   "outputs": [],
   "source": [
    "path_1 = '/home/diego/Documents/2023-05-24_Kinematic_Vitacura/LAZ - crudo/230518_085049_001.laz'\n",
    "path_2 = '/home/diego/Documents/2023-05-24_Kinematic_Vitacura/LAZ - 1cm/230518_085049_001.laz'"
   ]
  },
  {
   "cell_type": "code",
   "execution_count": 14,
   "metadata": {},
   "outputs": [],
   "source": [
    "points_1, colors_1 = get_points_and_colors(path_1, limit=100000)\n",
    "points_2, colors_2 = get_points_and_colors(path_2, limit=100000)"
   ]
  },
  {
   "cell_type": "code",
   "execution_count": 17,
   "metadata": {},
   "outputs": [
    {
     "data": {
      "text/plain": [
       "(PolyData (0x75f65b025360)\n",
       "   N Cells:    100000\n",
       "   N Points:   100000\n",
       "   N Strips:   0\n",
       "   X Bounds:   3.514e+05, 3.515e+05\n",
       "   Y Bounds:   6.303e+06, 6.304e+06\n",
       "   Z Bounds:   6.691e+02, 7.045e+02\n",
       "   N Arrays:   0,\n",
       " PolyData (0x75f65b0259c0)\n",
       "   N Cells:    100000\n",
       "   N Points:   100000\n",
       "   N Strips:   0\n",
       "   X Bounds:   3.514e+05, 3.515e+05\n",
       "   Y Bounds:   6.303e+06, 6.304e+06\n",
       "   Z Bounds:   6.685e+02, 6.981e+02\n",
       "   N Arrays:   0)"
      ]
     },
     "execution_count": 17,
     "metadata": {},
     "output_type": "execute_result"
    }
   ],
   "source": [
    "point_cloud_1 = pv.PolyData(points_1)\n",
    "point_cloud_2 = pv.PolyData(points_2)\n",
    "point_cloud_1, point_cloud_2"
   ]
  },
  {
   "cell_type": "code",
   "execution_count": 18,
   "metadata": {},
   "outputs": [],
   "source": [
    "surf_1 = point_cloud_1.delaunay_2d()\n",
    "surf_2 = point_cloud_2.delaunay_2d()"
   ]
  },
  {
   "cell_type": "code",
   "execution_count": 8,
   "metadata": {},
   "outputs": [],
   "source": [
    "#surf_1.flip_normals()\n",
    "#surf_2.flip_normals()"
   ]
  },
  {
   "cell_type": "code",
   "execution_count": 19,
   "metadata": {},
   "outputs": [
    {
     "data": {
      "text/plain": [
       "(True, True)"
      ]
     },
     "execution_count": 19,
     "metadata": {},
     "output_type": "execute_result"
    }
   ],
   "source": [
    "surf_1.is_all_triangles, surf_2.is_all_triangles"
   ]
  },
  {
   "cell_type": "code",
   "execution_count": 20,
   "metadata": {},
   "outputs": [],
   "source": [
    "#surf_1.compute_normals(inplace=True)\n",
    "#surf_1.plot_normals()"
   ]
  },
  {
   "cell_type": "code",
   "execution_count": 21,
   "metadata": {},
   "outputs": [
    {
     "data": {
      "application/vnd.jupyter.widget-view+json": {
       "model_id": "35e713d35f164eea872d03dc4bc2de7d",
       "version_major": 2,
       "version_minor": 0
      },
      "text/plain": [
       "Widget(value='<iframe src=\"http://localhost:40183/index.html?ui=P_0x75f65c231bb0_0&reconnect=auto\" class=\"pyvi…"
      ]
     },
     "metadata": {},
     "output_type": "display_data"
    }
   ],
   "source": [
    "plotter = pv.Plotter()\n",
    "plotter.add_mesh(surf_1, show_edges=False, color='red')\n",
    "plotter.add_mesh(surf_2, show_edges=False, color='blue')\n",
    "#plotter.add_mesh(intersection, show_edges=False, color='green')\n",
    "plotter.show()"
   ]
  },
  {
   "cell_type": "markdown",
   "metadata": {},
   "source": [
    "## Distance Between Two Surfaces"
   ]
  },
  {
   "cell_type": "markdown",
   "metadata": {},
   "source": [
    "### 1. Nearest Neighbor Distance (rápida)"
   ]
  },
  {
   "cell_type": "code",
   "execution_count": 22,
   "metadata": {},
   "outputs": [
    {
     "data": {
      "text/plain": [
       "0.2591295929118971"
      ]
     },
     "execution_count": 22,
     "metadata": {},
     "output_type": "execute_result"
    }
   ],
   "source": [
    "from scipy.spatial import KDTree\n",
    "\n",
    "tree = KDTree(surf_2.points)\n",
    "d_kdtree, idx = tree.query(surf_1.points)\n",
    "surf_1[\"distances\"] = d_kdtree\n",
    "np.mean(d_kdtree)"
   ]
  },
  {
   "cell_type": "code",
   "execution_count": 23,
   "metadata": {},
   "outputs": [
    {
     "data": {
      "application/vnd.jupyter.widget-view+json": {
       "model_id": "d5b0379831c8421ba2d323af6560ffcd",
       "version_major": 2,
       "version_minor": 0
      },
      "text/plain": [
       "Widget(value='<iframe src=\"http://localhost:40183/index.html?ui=P_0x75f6517c3da0_1&reconnect=auto\" class=\"pyvi…"
      ]
     },
     "metadata": {},
     "output_type": "display_data"
    }
   ],
   "source": [
    "p = pv.Plotter()\n",
    "p.add_mesh(surf_1, scalars=\"distances\", smooth_shading=True)\n",
    "p.add_mesh(surf_2, color=True, opacity=0.75, smooth_shading=True)\n",
    "p.show()"
   ]
  },
  {
   "cell_type": "markdown",
   "metadata": {},
   "source": [
    "### 2. Ray Tracing Distance (más lento, lo paré a los 16 minutos, que onda?)"
   ]
  },
  {
   "cell_type": "code",
   "execution_count": 47,
   "metadata": {},
   "outputs": [],
   "source": [
    "surf_1_n = surf_1.compute_normals(point_normals=True, cell_normals=False, auto_orient_normals=True)"
   ]
  },
  {
   "cell_type": "code",
   "execution_count": 49,
   "metadata": {},
   "outputs": [
    {
     "ename": "KeyboardInterrupt",
     "evalue": "",
     "output_type": "error",
     "traceback": [
      "\u001b[0;31m---------------------------------------------------------------------------\u001b[0m",
      "\u001b[0;31mKeyboardInterrupt\u001b[0m                         Traceback (most recent call last)",
      "Cell \u001b[0;32mIn[49], line 7\u001b[0m\n\u001b[1;32m      5\u001b[0m p0 \u001b[38;5;241m=\u001b[39m p \u001b[38;5;241m-\u001b[39m vec\n\u001b[1;32m      6\u001b[0m p1 \u001b[38;5;241m=\u001b[39m p \u001b[38;5;241m+\u001b[39m vec\n\u001b[0;32m----> 7\u001b[0m ip, ic \u001b[38;5;241m=\u001b[39m \u001b[43msurf_2\u001b[49m\u001b[38;5;241;43m.\u001b[39;49m\u001b[43mray_trace\u001b[49m\u001b[43m(\u001b[49m\u001b[43mp0\u001b[49m\u001b[43m,\u001b[49m\u001b[43m \u001b[49m\u001b[43mp1\u001b[49m\u001b[43m,\u001b[49m\u001b[43m \u001b[49m\u001b[43mfirst_point\u001b[49m\u001b[38;5;241;43m=\u001b[39;49m\u001b[38;5;28;43;01mTrue\u001b[39;49;00m\u001b[43m)\u001b[49m\n\u001b[1;32m      8\u001b[0m dist \u001b[38;5;241m=\u001b[39m np\u001b[38;5;241m.\u001b[39msqrt(np\u001b[38;5;241m.\u001b[39msum((ip \u001b[38;5;241m-\u001b[39m p) \u001b[38;5;241m*\u001b[39m\u001b[38;5;241m*\u001b[39m \u001b[38;5;241m2\u001b[39m))\n\u001b[1;32m      9\u001b[0m surf_1_n[\u001b[38;5;124m\"\u001b[39m\u001b[38;5;124mdistances\u001b[39m\u001b[38;5;124m\"\u001b[39m][i] \u001b[38;5;241m=\u001b[39m dist\n",
      "File \u001b[0;32m~/workspace/batimetria/venv/lib/python3.12/site-packages/pyvista/core/filters/poly_data.py:2199\u001b[0m, in \u001b[0;36mPolyDataFilters.ray_trace\u001b[0;34m(self, origin, end_point, first_point, plot, off_screen)\u001b[0m\n\u001b[1;32m   2197\u001b[0m points \u001b[38;5;241m=\u001b[39m _vtk\u001b[38;5;241m.\u001b[39mvtkPoints()\n\u001b[1;32m   2198\u001b[0m cell_ids \u001b[38;5;241m=\u001b[39m _vtk\u001b[38;5;241m.\u001b[39mvtkIdList()\n\u001b[0;32m-> 2199\u001b[0m \u001b[38;5;28;43mself\u001b[39;49m\u001b[38;5;241;43m.\u001b[39;49m\u001b[43mobbTree\u001b[49m\u001b[38;5;241;43m.\u001b[39;49m\u001b[43mIntersectWithLine\u001b[49m\u001b[43m(\u001b[49m\u001b[43mnp\u001b[49m\u001b[38;5;241;43m.\u001b[39;49m\u001b[43marray\u001b[49m\u001b[43m(\u001b[49m\u001b[43morigin\u001b[49m\u001b[43m)\u001b[49m\u001b[43m,\u001b[49m\u001b[43m \u001b[49m\u001b[43mnp\u001b[49m\u001b[38;5;241;43m.\u001b[39;49m\u001b[43marray\u001b[49m\u001b[43m(\u001b[49m\u001b[43mend_point\u001b[49m\u001b[43m)\u001b[49m\u001b[43m,\u001b[49m\u001b[43m \u001b[49m\u001b[43mpoints\u001b[49m\u001b[43m,\u001b[49m\u001b[43m \u001b[49m\u001b[43mcell_ids\u001b[49m\u001b[43m)\u001b[49m\n\u001b[1;32m   2201\u001b[0m intersection_points \u001b[38;5;241m=\u001b[39m _vtk\u001b[38;5;241m.\u001b[39mvtk_to_numpy(points\u001b[38;5;241m.\u001b[39mGetData())\n\u001b[1;32m   2202\u001b[0m has_intersection \u001b[38;5;241m=\u001b[39m intersection_points\u001b[38;5;241m.\u001b[39mshape[\u001b[38;5;241m0\u001b[39m] \u001b[38;5;241m>\u001b[39m\u001b[38;5;241m=\u001b[39m \u001b[38;5;241m1\u001b[39m\n",
      "\u001b[0;31mKeyboardInterrupt\u001b[0m: "
     ]
    },
    {
     "ename": "",
     "evalue": "",
     "output_type": "error",
     "traceback": [
      "\u001b[1;31mThe Kernel crashed while executing code in the current cell or a previous cell. \n",
      "\u001b[1;31mPlease review the code in the cell(s) to identify a possible cause of the failure. \n",
      "\u001b[1;31mClick <a href='https://aka.ms/vscodeJupyterKernelCrash'>here</a> for more info. \n",
      "\u001b[1;31mView Jupyter <a href='command:jupyter.viewOutput'>log</a> for further details."
     ]
    }
   ],
   "source": [
    "surf_1_n[\"distances\"] = np.empty(surf_1.n_points)\n",
    "for i in range(surf_1_n.n_points):\n",
    "    p = surf_1_n.points[i]\n",
    "    vec = surf_1_n[\"Normals\"][i] * surf_1_n.length\n",
    "    p0 = p - vec\n",
    "    p1 = p + vec\n",
    "    ip, ic = surf_2.ray_trace(p0, p1, first_point=True)\n",
    "    dist = np.sqrt(np.sum((ip - p) ** 2))\n",
    "    surf_1_n[\"distances\"][i] = dist\n",
    "\n",
    "# Replace zeros with nans\n",
    "mask = surf_1_n[\"distances\"] == 0\n",
    "surf_1_n[\"distances\"][mask] = np.nan\n",
    "np.nanmean(surf_1_n[\"distances\"])"
   ]
  },
  {
   "cell_type": "markdown",
   "metadata": {},
   "source": [
    "### 3. Using PyVista Filter"
   ]
  },
  {
   "cell_type": "code",
   "execution_count": 24,
   "metadata": {},
   "outputs": [
    {
     "data": {
      "text/plain": [
       "145.55014683036833"
      ]
     },
     "execution_count": 24,
     "metadata": {},
     "output_type": "execute_result"
    }
   ],
   "source": [
    "closest_cells, closest_points = surf_2.find_closest_cell(surf_2.points, return_closest_point=True)\n",
    "d_exact = np.linalg.norm(surf_1.points - closest_points, axis=1)\n",
    "surf_1[\"distances\"] = d_exact\n",
    "np.mean(d_exact)"
   ]
  },
  {
   "cell_type": "code",
   "execution_count": 25,
   "metadata": {},
   "outputs": [
    {
     "data": {
      "application/vnd.jupyter.widget-view+json": {
       "model_id": "955edc58c8ed4ded9c5af8e60dbf82ea",
       "version_major": 2,
       "version_minor": 0
      },
      "text/plain": [
       "Widget(value='<iframe src=\"http://localhost:40183/index.html?ui=P_0x75f640c62390_2&reconnect=auto\" class=\"pyvi…"
      ]
     },
     "metadata": {},
     "output_type": "display_data"
    }
   ],
   "source": [
    "p = pv.Plotter()\n",
    "p.add_mesh(surf_1, scalars=\"distances\", smooth_shading=True)\n",
    "p.add_mesh(surf_2, color=True, opacity=0.75, smooth_shading=True)\n",
    "p.show()"
   ]
  },
  {
   "cell_type": "code",
   "execution_count": null,
   "metadata": {},
   "outputs": [],
   "source": []
  },
  {
   "cell_type": "code",
   "execution_count": null,
   "metadata": {},
   "outputs": [],
   "source": []
  },
  {
   "cell_type": "code",
   "execution_count": null,
   "metadata": {},
   "outputs": [],
   "source": []
  },
  {
   "cell_type": "code",
   "execution_count": null,
   "metadata": {},
   "outputs": [],
   "source": []
  },
  {
   "cell_type": "code",
   "execution_count": 9,
   "metadata": {},
   "outputs": [],
   "source": [
    "# Make data array using z-component of points array\n",
    "#data_1 = points_1[:, -1]\n",
    "#data_2 = points_2[:, -1]\n",
    "\n",
    "# Add that data to the mesh with the name \"uniform dist\"\n",
    "#point_cloud_1[\"elevation\"] = data_1\n",
    "#point_cloud_2[\"elevation\"] = data_2"
   ]
  },
  {
   "cell_type": "code",
   "execution_count": 14,
   "metadata": {},
   "outputs": [
    {
     "ename": "NotAllTrianglesError",
     "evalue": "Make sure both the input and output are triangulated.",
     "output_type": "error",
     "traceback": [
      "\u001b[0;31m---------------------------------------------------------------------------\u001b[0m",
      "\u001b[0;31mNotAllTrianglesError\u001b[0m                      Traceback (most recent call last)",
      "Cell \u001b[0;32mIn[14], line 1\u001b[0m\n\u001b[0;32m----> 1\u001b[0m intersection \u001b[38;5;241m=\u001b[39m \u001b[43mpoint_cloud_1\u001b[49m\u001b[38;5;241;43m.\u001b[39;49m\u001b[43mboolean_intersection\u001b[49m\u001b[43m(\u001b[49m\u001b[43mpoint_cloud_2\u001b[49m\u001b[43m)\u001b[49m\n",
      "File \u001b[0;32m~/workspace/batimetria/venv/lib/python3.12/site-packages/pyvista/core/filters/poly_data.py:256\u001b[0m, in \u001b[0;36mPolyDataFilters.boolean_intersection\u001b[0;34m(self, other_mesh, tolerance, progress_bar)\u001b[0m\n\u001b[1;32m    185\u001b[0m \u001b[38;5;28;01mdef\u001b[39;00m \u001b[38;5;21mboolean_intersection\u001b[39m(\u001b[38;5;28mself\u001b[39m, other_mesh, tolerance\u001b[38;5;241m=\u001b[39m\u001b[38;5;241m1e-5\u001b[39m, progress_bar\u001b[38;5;241m=\u001b[39m\u001b[38;5;28;01mFalse\u001b[39;00m):\n\u001b[1;32m    186\u001b[0m \u001b[38;5;250m    \u001b[39m\u001b[38;5;124;03m\"\"\"Perform a boolean intersection operation on two meshes.\u001b[39;00m\n\u001b[1;32m    187\u001b[0m \n\u001b[1;32m    188\u001b[0m \u001b[38;5;124;03m    Essentially, boolean union, difference, and intersection are\u001b[39;00m\n\u001b[0;32m   (...)\u001b[0m\n\u001b[1;32m    254\u001b[0m \n\u001b[1;32m    255\u001b[0m \u001b[38;5;124;03m    \"\"\"\u001b[39;00m\n\u001b[0;32m--> 256\u001b[0m     bool_inter \u001b[38;5;241m=\u001b[39m \u001b[38;5;28;43mself\u001b[39;49m\u001b[38;5;241;43m.\u001b[39;49m\u001b[43m_boolean\u001b[49m\u001b[43m(\u001b[49m\u001b[38;5;124;43m'\u001b[39;49m\u001b[38;5;124;43mintersection\u001b[39;49m\u001b[38;5;124;43m'\u001b[39;49m\u001b[43m,\u001b[49m\u001b[43m \u001b[49m\u001b[43mother_mesh\u001b[49m\u001b[43m,\u001b[49m\u001b[43m \u001b[49m\u001b[43mtolerance\u001b[49m\u001b[43m,\u001b[49m\u001b[43m \u001b[49m\u001b[43mprogress_bar\u001b[49m\u001b[38;5;241;43m=\u001b[39;49m\u001b[43mprogress_bar\u001b[49m\u001b[43m)\u001b[49m\n\u001b[1;32m    258\u001b[0m     \u001b[38;5;66;03m# check if a polydata is completely contained within another\u001b[39;00m\n\u001b[1;32m    259\u001b[0m     \u001b[38;5;28;01mif\u001b[39;00m bool_inter\u001b[38;5;241m.\u001b[39mn_points \u001b[38;5;241m==\u001b[39m \u001b[38;5;241m0\u001b[39m:\n",
      "File \u001b[0;32m~/workspace/batimetria/venv/lib/python3.12/site-packages/pyvista/core/filters/poly_data.py:93\u001b[0m, in \u001b[0;36mPolyDataFilters._boolean\u001b[0;34m(self, btype, other_mesh, tolerance, progress_bar)\u001b[0m\n\u001b[1;32m     91\u001b[0m     \u001b[38;5;28;01mraise\u001b[39;00m \u001b[38;5;167;01mTypeError\u001b[39;00m(\u001b[38;5;124m\"\u001b[39m\u001b[38;5;124mInput mesh must be PolyData.\u001b[39m\u001b[38;5;124m\"\u001b[39m)\n\u001b[1;32m     92\u001b[0m \u001b[38;5;28;01mif\u001b[39;00m \u001b[38;5;129;01mnot\u001b[39;00m \u001b[38;5;28mself\u001b[39m\u001b[38;5;241m.\u001b[39mis_all_triangles \u001b[38;5;129;01mor\u001b[39;00m \u001b[38;5;129;01mnot\u001b[39;00m other_mesh\u001b[38;5;241m.\u001b[39mis_all_triangles:\n\u001b[0;32m---> 93\u001b[0m     \u001b[38;5;28;01mraise\u001b[39;00m NotAllTrianglesError(\u001b[38;5;124m\"\u001b[39m\u001b[38;5;124mMake sure both the input and output are triangulated.\u001b[39m\u001b[38;5;124m\"\u001b[39m)\n\u001b[1;32m     95\u001b[0m bfilter \u001b[38;5;241m=\u001b[39m _vtk\u001b[38;5;241m.\u001b[39mvtkBooleanOperationPolyDataFilter()\n\u001b[1;32m     96\u001b[0m \u001b[38;5;28;01mif\u001b[39;00m btype \u001b[38;5;241m==\u001b[39m \u001b[38;5;124m'\u001b[39m\u001b[38;5;124munion\u001b[39m\u001b[38;5;124m'\u001b[39m:\n",
      "\u001b[0;31mNotAllTrianglesError\u001b[0m: Make sure both the input and output are triangulated."
     ]
    }
   ],
   "source": [
    "intersection = point_cloud_1.boolean_intersection(point_cloud_2)"
   ]
  },
  {
   "cell_type": "code",
   "execution_count": 12,
   "metadata": {},
   "outputs": [],
   "source": [
    "opacity = 0.25\n",
    "point_size = 5"
   ]
  },
  {
   "cell_type": "code",
   "execution_count": 13,
   "metadata": {},
   "outputs": [
    {
     "data": {
      "application/vnd.jupyter.widget-view+json": {
       "model_id": "f246e1b7e080442ebc6f391b78ecb8f2",
       "version_major": 2,
       "version_minor": 0
      },
      "text/plain": [
       "Widget(value='<iframe src=\"http://localhost:45055/index.html?ui=P_0x733bfc855370_1&reconnect=auto\" class=\"pyvi…"
      ]
     },
     "metadata": {},
     "output_type": "display_data"
    }
   ],
   "source": [
    "plotter = pv.Plotter()\n",
    "plotter.add_points(point_cloud_1, opacity=opacity, point_size=point_size, render_points_as_spheres=True, color='red')\n",
    "plotter.add_points(point_cloud_2, opacity=opacity, point_size=point_size, render_points_as_spheres=True, color='blue')\n",
    "plotter.show()"
   ]
  },
  {
   "cell_type": "code",
   "execution_count": 9,
   "metadata": {},
   "outputs": [
    {
     "data": {
      "application/vnd.jupyter.widget-view+json": {
       "model_id": "7ad532b2ded94a06a7c204f425b1bb15",
       "version_major": 2,
       "version_minor": 0
      },
      "text/plain": [
       "Widget(value='<iframe src=\"http://localhost:41057/index.html?ui=P_0x7f5689ea2f30_1&reconnect=auto\" class=\"pyvi…"
      ]
     },
     "metadata": {},
     "output_type": "display_data"
    }
   ],
   "source": [
    "#point_cloud.plot(eye_dome_lighting=True, render_points_as_spheres=True, point_size=point_size, opacity=opacity)"
   ]
  },
  {
   "cell_type": "code",
   "execution_count": null,
   "metadata": {},
   "outputs": [],
   "source": []
  }
 ],
 "metadata": {
  "kernelspec": {
   "display_name": "venv",
   "language": "python",
   "name": "python3"
  },
  "language_info": {
   "codemirror_mode": {
    "name": "ipython",
    "version": 3
   },
   "file_extension": ".py",
   "mimetype": "text/x-python",
   "name": "python",
   "nbconvert_exporter": "python",
   "pygments_lexer": "ipython3",
   "version": "3.12.3"
  }
 },
 "nbformat": 4,
 "nbformat_minor": 2
}
