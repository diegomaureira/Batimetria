{
 "cells": [
  {
   "cell_type": "code",
   "execution_count": 1,
   "metadata": {},
   "outputs": [],
   "source": [
    "import numpy as np\n",
    "import glob\n",
    "import laspy\n",
    "#pip install \"pyvista[jupyter]\""
   ]
  },
  {
   "cell_type": "code",
   "execution_count": 2,
   "metadata": {},
   "outputs": [
    {
     "data": {
      "text/plain": [
       "['/home/diego/Documents/2023-05-24_Kinematic_Vitacura/LAZ - crudo/230518_085049_001.laz',\n",
       " '/home/diego/Documents/2023-05-24_Kinematic_Vitacura/LAZ - crudo/230518_085049.laz',\n",
       " '/home/diego/Documents/2023-05-24_Kinematic_Vitacura/LAZ - crudo/230518_085049_002.laz']"
      ]
     },
     "execution_count": 2,
     "metadata": {},
     "output_type": "execute_result"
    }
   ],
   "source": [
    "main_path = '/home/diego/Documents/2023-05-24_Kinematic_Vitacura/LAZ - crudo/*'\n",
    "glob.glob(main_path)"
   ]
  },
  {
   "cell_type": "code",
   "execution_count": 6,
   "metadata": {},
   "outputs": [],
   "source": [
    "# Required Libraries\n",
    "import laspy\n",
    "import numpy as np\n",
    "import matplotlib.pyplot as plt\n",
    "from mpl_toolkits.mplot3d import Axes3D\n",
    "\n",
    "# For creating a responsive plot in Jupyter Notebook\n",
    "%matplotlib widget\n",
    "\n",
    "# Read the LAS/LAZ file\n",
    "file_path = '/home/diego/Documents/2023-05-24_Kinematic_Vitacura/LAZ - crudo/230518_085049.laz'  # Change this to your file path\n",
    "with laspy.open(file_path) as f:\n",
    "    las = f.read()"
   ]
  },
  {
   "cell_type": "code",
   "execution_count": 7,
   "metadata": {},
   "outputs": [
    {
     "name": "stdout",
     "output_type": "stream",
     "text": [
      "<LasData(1.2, point fmt: <PointFormat(3, 6 bytes of extra dims)>, 109052604 points, 4 vlrs)>\n",
      "<SubFieldView([2 2 2 ... 2 2 2])>\n",
      "[2 4]\n"
     ]
    }
   ],
   "source": [
    "print(las)\n",
    "print(las.classification)\n",
    "print(np.unique(las.classification))"
   ]
  },
  {
   "cell_type": "code",
   "execution_count": 8,
   "metadata": {},
   "outputs": [],
   "source": [
    "# Extract point coordinates and classification\n",
    "x = las.x\n",
    "y = las.y\n",
    "z = las.z\n",
    "classification = las.classification\n",
    "\n",
    "# Filter points classified as ground (code 0)\n",
    "ground_points = (classification == 4)\n",
    "x_ground = x[ground_points]\n",
    "y_ground = y[ground_points]\n",
    "z_ground = z[ground_points]\n",
    "\n",
    "# Limit the number of points to visualize (e.g., 100 points)\n",
    "max_points = 1000000  # Set your desired limit here\n",
    "if len(x_ground) > max_points:\n",
    "    indices = np.random.choice(len(x_ground), max_points, replace=False)\n",
    "    x_ground = x_ground[indices]\n",
    "    y_ground = y_ground[indices]\n",
    "    z_ground = z_ground[indices]\n",
    "\n",
    "# Create a figure and a 3D axis\n",
    "#fig = plt.figure()\n",
    "#ax = fig.add_subplot(111, projection='3d')\n",
    "\n",
    "# Create the scatter plot\n",
    "#scatter = ax.scatter(x_ground, y_ground, z_ground, color='red', s=2)  # s is the size of points\n",
    "\n",
    "# Setting title and labels\n",
    "#ax.set_title(\"3D Point Cloud Visualization\")\n",
    "#ax.set_xlabel('X')\n",
    "#ax.set_ylabel('Y')\n",
    "#ax.set_zlabel('Z')\n",
    "\n",
    "# Show the plot\n",
    "#plt.show()\n"
   ]
  },
  {
   "cell_type": "code",
   "execution_count": 9,
   "metadata": {},
   "outputs": [],
   "source": [
    "stack = np.vstack((x_ground, y_ground, z_ground)).T"
   ]
  },
  {
   "cell_type": "code",
   "execution_count": 10,
   "metadata": {},
   "outputs": [
    {
     "data": {
      "application/vnd.jupyter.widget-view+json": {
       "model_id": "ada6523aa2924d7cbc7b3e4f17e74eb2",
       "version_major": 2,
       "version_minor": 0
      },
      "text/plain": [
       "Widget(value='<iframe src=\"http://localhost:46861/index.html?ui=P_0x7e8d6c168dd0_0&reconnect=auto\" class=\"pyvi…"
      ]
     },
     "metadata": {},
     "output_type": "display_data"
    }
   ],
   "source": [
    "import numpy as np\n",
    "import pyvista\n",
    "\n",
    "# create a point cloud\n",
    "point_cloud = stack\n",
    "pdata = pyvista.PolyData(point_cloud)\n",
    "#pdata['orig_sphere'] = np.arange(100)\n",
    "\n",
    "# create many spheres from the point cloud\n",
    "#sphere = pyvista.Sphere(radius=0.02, phi_resolution=10, theta_resolution=10)\n",
    "pc = pdata.glyph(scale=False,orient=False)\n",
    "pc.plot(cmap='Reds')"
   ]
  },
  {
   "cell_type": "code",
   "execution_count": null,
   "metadata": {},
   "outputs": [],
   "source": []
  },
  {
   "cell_type": "code",
   "execution_count": null,
   "metadata": {},
   "outputs": [],
   "source": []
  }
 ],
 "metadata": {
  "kernelspec": {
   "display_name": "venv",
   "language": "python",
   "name": "python3"
  },
  "language_info": {
   "codemirror_mode": {
    "name": "ipython",
    "version": 3
   },
   "file_extension": ".py",
   "mimetype": "text/x-python",
   "name": "python",
   "nbconvert_exporter": "python",
   "pygments_lexer": "ipython3",
   "version": "3.12.3"
  }
 },
 "nbformat": 4,
 "nbformat_minor": 2
}
