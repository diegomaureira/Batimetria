{
 "cells": [
  {
   "cell_type": "code",
   "execution_count": 1,
   "metadata": {},
   "outputs": [
    {
     "name": "stdout",
     "output_type": "stream",
     "text": [
      "Warning, cannot find cuda-compiled version of RoPE2D, using a slow pytorch version instead\n"
     ]
    },
    {
     "name": "stderr",
     "output_type": "stream",
     "text": [
      "/home/diego/workspace/batimetria/venv/lib/python3.12/site-packages/mini_dust3r/cloud_opt/base_opt.py:299: FutureWarning: `torch.cuda.amp.autocast(args...)` is deprecated. Please use `torch.amp.autocast('cuda', args...)` instead.\n",
      "  @torch.cuda.amp.autocast(enabled=False)\n"
     ]
    }
   ],
   "source": [
    "#import rerun as rr\n",
    "from pathlib import Path\n",
    "from argparse import ArgumentParser\n",
    "import torch\n",
    "\n",
    "from mini_dust3r.api import OptimizedResult, inferece_dust3r, log_optimized_result\n",
    "from mini_dust3r.model import AsymmetricCroCo3DStereo\n",
    "\n",
    "\n",
    "def process(image_dir: Path):\n",
    "    device = \"cpu\"\n",
    "\n",
    "    model = AsymmetricCroCo3DStereo.from_pretrained(\n",
    "        \"nielsr/DUSt3R_ViTLarge_BaseDecoder_512_dpt\"\n",
    "    ).to(device)\n",
    "\n",
    "    optimized_results: OptimizedResult = inferece_dust3r(\n",
    "        image_dir_or_list=image_dir,\n",
    "        model=model,\n",
    "        device=device,\n",
    "        batch_size=1,\n",
    "    )\n",
    "    #log_optimized_result(optimized_results, Path(\"world\"))\n",
    "    return optimized_results"
   ]
  },
  {
   "cell_type": "code",
   "execution_count": 3,
   "metadata": {},
   "outputs": [
    {
     "name": "stdout",
     "output_type": "stream",
     "text": [
      ">> Loading images from /home/diego/Downloads/gundam12\n",
      " - adding IMG_20241008_153124.jpg with resolution 3000x4000 --> 384x512\n",
      " - adding IMG_20241008_153132.jpg with resolution 3000x4000 --> 384x512\n",
      " - adding IMG_20241008_153140.jpg with resolution 3000x4000 --> 384x512\n",
      " - adding IMG_20241008_153150.jpg with resolution 3000x4000 --> 384x512\n",
      " - adding IMG_20241008_153159.jpg with resolution 3000x4000 --> 384x512\n",
      " - adding IMG_20241008_153205.jpg with resolution 3000x4000 --> 384x512\n",
      " - adding IMG_20241008_153223.jpg with resolution 3000x4000 --> 384x512\n",
      " (Found 7 images)\n",
      ">> Inference with model on 42 image pairs\n"
     ]
    },
    {
     "name": "stderr",
     "output_type": "stream",
     "text": [
      "  0%|          | 0/42 [00:00<?, ?it/s]/home/diego/workspace/batimetria/venv/lib/python3.12/site-packages/mini_dust3r/inference.py:70: FutureWarning: `torch.cuda.amp.autocast(args...)` is deprecated. Please use `torch.amp.autocast('cuda', args...)` instead.\n",
      "  with torch.cuda.amp.autocast(enabled=bool(use_amp)):\n",
      "/home/diego/workspace/batimetria/venv/lib/python3.12/site-packages/mini_dust3r/model.py:252: FutureWarning: `torch.cuda.amp.autocast(args...)` is deprecated. Please use `torch.amp.autocast('cuda', args...)` instead.\n",
      "  with torch.cuda.amp.autocast(enabled=False):\n",
      "/home/diego/workspace/batimetria/venv/lib/python3.12/site-packages/mini_dust3r/inference.py:74: FutureWarning: `torch.cuda.amp.autocast(args...)` is deprecated. Please use `torch.amp.autocast('cuda', args...)` instead.\n",
      "  with torch.cuda.amp.autocast(enabled=False):\n",
      "  2%|▏         | 1/42 [00:12<08:16, 12.11s/it]/home/diego/workspace/batimetria/venv/lib/python3.12/site-packages/mini_dust3r/inference.py:70: FutureWarning: `torch.cuda.amp.autocast(args...)` is deprecated. Please use `torch.amp.autocast('cuda', args...)` instead.\n",
      "  with torch.cuda.amp.autocast(enabled=bool(use_amp)):\n",
      "/home/diego/workspace/batimetria/venv/lib/python3.12/site-packages/mini_dust3r/model.py:252: FutureWarning: `torch.cuda.amp.autocast(args...)` is deprecated. Please use `torch.amp.autocast('cuda', args...)` instead.\n",
      "  with torch.cuda.amp.autocast(enabled=False):\n",
      "/home/diego/workspace/batimetria/venv/lib/python3.12/site-packages/mini_dust3r/inference.py:74: FutureWarning: `torch.cuda.amp.autocast(args...)` is deprecated. Please use `torch.amp.autocast('cuda', args...)` instead.\n",
      "  with torch.cuda.amp.autocast(enabled=False):\n",
      "100%|██████████| 42/42 [09:40<00:00, 13.83s/it]\n"
     ]
    },
    {
     "name": "stdout",
     "output_type": "stream",
     "text": [
      " init edge (5*,4*) score=309.7616882324219\n",
      " init edge (0*,5) score=121.25961303710938\n",
      " init edge (5,6*) score=113.7037353515625\n",
      " init edge (2*,6) score=104.44024658203125\n",
      " init edge (6,3*) score=82.94054412841797\n",
      " init edge (0,1*) score=214.7468719482422\n",
      " init loss = 0.018322007730603218\n",
      "Global alignement - optimizing for:\n",
      "['pw_poses', 'im_depthmaps', 'im_poses', 'im_focals', 'im_conf.0', 'im_conf.1', 'im_conf.2', 'im_conf.3', 'im_conf.4', 'im_conf.5', 'im_conf.6']\n"
     ]
    },
    {
     "name": "stderr",
     "output_type": "stream",
     "text": [
      "100%|██████████| 100/100 [02:18<00:00,  1.38s/it, lr=0.01 loss=0.0127489]\n",
      "100%|██████████| 7/7 [00:00<00:00, 12.49it/s]\n"
     ]
    }
   ],
   "source": [
    "dir_path = Path('/home/diego/Downloads/gundam12/')\n",
    "optimized_res = process(dir_path)"
   ]
  },
  {
   "cell_type": "code",
   "execution_count": 4,
   "metadata": {},
   "outputs": [],
   "source": [
    "# save point cloud\n",
    "import pickle as pkl\n",
    "with open('gundam_cloud.pkl', 'wb') as f:\n",
    "    pkl.dump(optimized_res.point_cloud, f)"
   ]
  },
  {
   "cell_type": "code",
   "execution_count": 5,
   "metadata": {},
   "outputs": [],
   "source": [
    "# open point cloud\n",
    "\n",
    "with open('gundam_cloud.pkl', 'rb') as f:\n",
    "    cloud = pkl.load(f)"
   ]
  },
  {
   "cell_type": "code",
   "execution_count": 7,
   "metadata": {},
   "outputs": [],
   "source": [
    "#str = optimized_res.mesh.export(\"mesh.obj\",\"obj\")"
   ]
  },
  {
   "cell_type": "code",
   "execution_count": 15,
   "metadata": {},
   "outputs": [],
   "source": [
    "import numpy as np\n",
    "cloud = optimized_res.point_cloud\n",
    "colors = cloud.colors\n",
    "np_cloud = [np.array(c) for c in cloud]\n",
    "np_cloud = np.array(np_cloud)"
   ]
  },
  {
   "cell_type": "code",
   "execution_count": 16,
   "metadata": {},
   "outputs": [],
   "source": [
    "# Limit the number of points to visualize (e.g., 100 points)\n",
    "max_points = 1000000  # Set your desired limit here\n",
    "if len(np_cloud) > max_points:\n",
    "    indices = np.random.choice(len(np_cloud), max_points, replace=False)\n",
    "    new_np_cloud = np_cloud[indices]\n",
    "    new_colors = colors[indices][:, 1]\n",
    "colors = np.array(new_colors)"
   ]
  },
  {
   "cell_type": "code",
   "execution_count": 17,
   "metadata": {},
   "outputs": [
    {
     "data": {
      "application/vnd.jupyter.widget-view+json": {
       "model_id": "bc9d682595a74834aa716c72f026042c",
       "version_major": 2,
       "version_minor": 0
      },
      "text/plain": [
       "Widget(value='<iframe src=\"http://localhost:36953/index.html?ui=P_0x7b19b373df40_3&reconnect=auto\" class=\"pyvi…"
      ]
     },
     "metadata": {},
     "output_type": "display_data"
    }
   ],
   "source": [
    "import numpy as np\n",
    "import pyvista\n",
    "\n",
    "# create a point cloud\n",
    "point_cloud = new_np_cloud\n",
    "pdata = pyvista.PolyData(point_cloud)\n",
    "pdata['point_color'] = colors\n",
    "#pc = pdata.glyph(scale=False,orient=False)\n",
    "#pc.plot(cmap='Reds')\n",
    "pdata.plot(show_bounds=True, cpos='xy', point_size=2, cmap='gray')"
   ]
  },
  {
   "cell_type": "code",
   "execution_count": null,
   "metadata": {},
   "outputs": [],
   "source": []
  }
 ],
 "metadata": {
  "kernelspec": {
   "display_name": "venv",
   "language": "python",
   "name": "python3"
  },
  "language_info": {
   "codemirror_mode": {
    "name": "ipython",
    "version": 3
   },
   "file_extension": ".py",
   "mimetype": "text/x-python",
   "name": "python",
   "nbconvert_exporter": "python",
   "pygments_lexer": "ipython3",
   "version": "3.12.3"
  }
 },
 "nbformat": 4,
 "nbformat_minor": 2
}
